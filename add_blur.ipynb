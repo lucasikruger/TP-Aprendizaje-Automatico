{
 "cells": [
  {
   "cell_type": "code",
   "execution_count": 1,
   "metadata": {},
   "outputs": [],
   "source": [
    "import numpy as np\n",
    "import cv2 as cv\n",
    "import numpy as np\n",
    "from matplotlib import pyplot as plt\n",
    "import os"
   ]
  },
  {
   "cell_type": "code",
   "execution_count": 2,
   "metadata": {},
   "outputs": [],
   "source": [
    "for idx, file in enumerate(os.listdir(\"places/places/\")):\n",
    "    if file.endswith(\".jpg\"):\n",
    "        try:\n",
    "            path = os.path.join(\"places/places\", file)\n",
    "            imagen = cv.imread(path)\n",
    "        except:\n",
    "            print(\"No se pudo abrir archivo\")\n",
    "            continue\n",
    "\n",
    "        imagenConBlur = cv.GaussianBlur( imagen, (13,13), 20 )\n",
    "\n",
    "        cv.imwrite(\"blurredPlaces/blurredPlaces\" + file, imagenConBlur)"
   ]
  },
  {
   "cell_type": "code",
   "execution_count": 6,
   "metadata": {},
   "outputs": [
    {
     "data": {
      "text/plain": [
       "True"
      ]
     },
     "execution_count": 6,
     "metadata": {},
     "output_type": "execute_result"
    }
   ],
   "source": [
    "imagen = cv.imread('place_1.jpg')\n",
    "imagenConBlur = cv.GaussianBlur( imagen, (13,13), 20 )\n",
    "\n",
    "cv.imwrite(\"bplace_1.jpg\", imagenConBlur)"
   ]
  }
 ],
 "metadata": {
  "kernelspec": {
   "display_name": "Python 3.10.5 ('learning')",
   "language": "python",
   "name": "python3"
  },
  "language_info": {
   "codemirror_mode": {
    "name": "ipython",
    "version": 3
   },
   "file_extension": ".py",
   "mimetype": "text/x-python",
   "name": "python",
   "nbconvert_exporter": "python",
   "pygments_lexer": "ipython3",
   "version": "3.10.5"
  },
  "orig_nbformat": 4,
  "vscode": {
   "interpreter": {
    "hash": "d4dfce521a65dafdb7fa4a85c9590d08c96b241eed376b791f905cb7e0f811ab"
   }
  }
 },
 "nbformat": 4,
 "nbformat_minor": 2
}
